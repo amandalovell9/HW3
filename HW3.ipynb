{
 "cells": [
  {
   "cell_type": "code",
   "execution_count": 75,
   "id": "9e138984-a175-4762-b1e1-a30b9fbb1747",
   "metadata": {},
   "outputs": [],
   "source": [
    "import pandas as pd"
   ]
  },
  {
   "cell_type": "code",
   "execution_count": 76,
   "id": "59006145-d80e-4000-877b-c5dc93c88d35",
   "metadata": {},
   "outputs": [],
   "source": [
    "import numpy as np"
   ]
  },
  {
   "cell_type": "code",
   "execution_count": 77,
   "id": "8fd94e16-5b79-4890-92e8-9aa0473a0583",
   "metadata": {},
   "outputs": [],
   "source": [
    "import matplotlib.pyplot as plt"
   ]
  },
  {
   "cell_type": "code",
   "execution_count": 78,
   "id": "4346c426-4c80-4a11-91b6-cebe552391f6",
   "metadata": {},
   "outputs": [],
   "source": [
    "import seaborn as sns"
   ]
  },
  {
   "cell_type": "code",
   "execution_count": 79,
   "id": "8f3fb6b7-4afc-45c2-8957-a2832bf94459",
   "metadata": {},
   "outputs": [],
   "source": [
    "dataset= pd.read_csv('C:/Users/amand/OneDrive/Data Science/ANA500/MSFT.csv')"
   ]
  },
  {
   "cell_type": "code",
   "execution_count": 80,
   "id": "01860c18-642b-4082-b1ee-8e3801c0a0e4",
   "metadata": {},
   "outputs": [
    {
     "data": {
      "text/html": [
       "<div>\n",
       "<style scoped>\n",
       "    .dataframe tbody tr th:only-of-type {\n",
       "        vertical-align: middle;\n",
       "    }\n",
       "\n",
       "    .dataframe tbody tr th {\n",
       "        vertical-align: top;\n",
       "    }\n",
       "\n",
       "    .dataframe thead th {\n",
       "        text-align: right;\n",
       "    }\n",
       "</style>\n",
       "<table border=\"1\" class=\"dataframe\">\n",
       "  <thead>\n",
       "    <tr style=\"text-align: right;\">\n",
       "      <th></th>\n",
       "      <th>Date</th>\n",
       "      <th>Open</th>\n",
       "      <th>High</th>\n",
       "      <th>Low</th>\n",
       "      <th>Close</th>\n",
       "      <th>Adj Close</th>\n",
       "      <th>Volume</th>\n",
       "    </tr>\n",
       "  </thead>\n",
       "  <tbody>\n",
       "    <tr>\n",
       "      <th>0</th>\n",
       "      <td>1986-03-13</td>\n",
       "      <td>0.088542</td>\n",
       "      <td>0.101563</td>\n",
       "      <td>0.088542</td>\n",
       "      <td>0.097222</td>\n",
       "      <td>0.061434</td>\n",
       "      <td>1031788800</td>\n",
       "    </tr>\n",
       "    <tr>\n",
       "      <th>1</th>\n",
       "      <td>1986-03-14</td>\n",
       "      <td>0.097222</td>\n",
       "      <td>0.102431</td>\n",
       "      <td>0.097222</td>\n",
       "      <td>0.100694</td>\n",
       "      <td>0.063628</td>\n",
       "      <td>308160000</td>\n",
       "    </tr>\n",
       "    <tr>\n",
       "      <th>2</th>\n",
       "      <td>1986-03-17</td>\n",
       "      <td>0.100694</td>\n",
       "      <td>0.103299</td>\n",
       "      <td>0.100694</td>\n",
       "      <td>0.102431</td>\n",
       "      <td>0.064725</td>\n",
       "      <td>133171200</td>\n",
       "    </tr>\n",
       "    <tr>\n",
       "      <th>3</th>\n",
       "      <td>1986-03-18</td>\n",
       "      <td>0.102431</td>\n",
       "      <td>0.103299</td>\n",
       "      <td>0.098958</td>\n",
       "      <td>0.099826</td>\n",
       "      <td>0.063079</td>\n",
       "      <td>67766400</td>\n",
       "    </tr>\n",
       "    <tr>\n",
       "      <th>4</th>\n",
       "      <td>1986-03-19</td>\n",
       "      <td>0.099826</td>\n",
       "      <td>0.100694</td>\n",
       "      <td>0.097222</td>\n",
       "      <td>0.098090</td>\n",
       "      <td>0.061982</td>\n",
       "      <td>47894400</td>\n",
       "    </tr>\n",
       "  </tbody>\n",
       "</table>\n",
       "</div>"
      ],
      "text/plain": [
       "         Date      Open      High       Low     Close  Adj Close      Volume\n",
       "0  1986-03-13  0.088542  0.101563  0.088542  0.097222   0.061434  1031788800\n",
       "1  1986-03-14  0.097222  0.102431  0.097222  0.100694   0.063628   308160000\n",
       "2  1986-03-17  0.100694  0.103299  0.100694  0.102431   0.064725   133171200\n",
       "3  1986-03-18  0.102431  0.103299  0.098958  0.099826   0.063079    67766400\n",
       "4  1986-03-19  0.099826  0.100694  0.097222  0.098090   0.061982    47894400"
      ]
     },
     "execution_count": 80,
     "metadata": {},
     "output_type": "execute_result"
    }
   ],
   "source": [
    "dataset.head()"
   ]
  },
  {
   "cell_type": "code",
   "execution_count": 81,
   "id": "0cc80be2-5e59-4176-b2c2-11fa87666d25",
   "metadata": {},
   "outputs": [
    {
     "name": "stderr",
     "output_type": "stream",
     "text": [
      "C:\\Users\\amand\\AppData\\Local\\Temp\\ipykernel_30776\\1799472221.py:1: FutureWarning: Dropping of nuisance columns in DataFrame reductions (with 'numeric_only=None') is deprecated; in a future version this will raise TypeError.  Select only valid columns before calling the reduction.\n",
      "  dataset.mean()\n"
     ]
    },
    {
     "data": {
      "text/plain": [
       "Open         4.132494e+01\n",
       "High         4.176089e+01\n",
       "Low          4.087849e+01\n",
       "Close        4.133563e+01\n",
       "Adj Close    3.625612e+01\n",
       "Volume       5.875055e+07\n",
       "dtype: float64"
      ]
     },
     "execution_count": 81,
     "metadata": {},
     "output_type": "execute_result"
    }
   ],
   "source": [
    "dataset.mean()"
   ]
  },
  {
   "cell_type": "code",
   "execution_count": 82,
   "id": "5fc726c4-09e8-4a5c-9ba0-65727a2cd04c",
   "metadata": {},
   "outputs": [
    {
     "data": {
      "text/html": [
       "<div>\n",
       "<style scoped>\n",
       "    .dataframe tbody tr th:only-of-type {\n",
       "        vertical-align: middle;\n",
       "    }\n",
       "\n",
       "    .dataframe tbody tr th {\n",
       "        vertical-align: top;\n",
       "    }\n",
       "\n",
       "    .dataframe thead th {\n",
       "        text-align: right;\n",
       "    }\n",
       "</style>\n",
       "<table border=\"1\" class=\"dataframe\">\n",
       "  <thead>\n",
       "    <tr style=\"text-align: right;\">\n",
       "      <th></th>\n",
       "      <th>Open</th>\n",
       "      <th>High</th>\n",
       "      <th>Low</th>\n",
       "      <th>Close</th>\n",
       "      <th>Adj Close</th>\n",
       "      <th>Volume</th>\n",
       "    </tr>\n",
       "  </thead>\n",
       "  <tbody>\n",
       "    <tr>\n",
       "      <th>count</th>\n",
       "      <td>9083.000000</td>\n",
       "      <td>9083.000000</td>\n",
       "      <td>9083.000000</td>\n",
       "      <td>9083.000000</td>\n",
       "      <td>9083.000000</td>\n",
       "      <td>9.083000e+03</td>\n",
       "    </tr>\n",
       "    <tr>\n",
       "      <th>mean</th>\n",
       "      <td>41.324936</td>\n",
       "      <td>41.760887</td>\n",
       "      <td>40.878488</td>\n",
       "      <td>41.335628</td>\n",
       "      <td>36.256120</td>\n",
       "      <td>5.875055e+07</td>\n",
       "    </tr>\n",
       "    <tr>\n",
       "      <th>std</th>\n",
       "      <td>59.696905</td>\n",
       "      <td>60.272218</td>\n",
       "      <td>59.081728</td>\n",
       "      <td>59.714567</td>\n",
       "      <td>59.981436</td>\n",
       "      <td>3.845200e+07</td>\n",
       "    </tr>\n",
       "    <tr>\n",
       "      <th>min</th>\n",
       "      <td>0.088542</td>\n",
       "      <td>0.092014</td>\n",
       "      <td>0.088542</td>\n",
       "      <td>0.090278</td>\n",
       "      <td>0.057046</td>\n",
       "      <td>2.304000e+06</td>\n",
       "    </tr>\n",
       "    <tr>\n",
       "      <th>25%</th>\n",
       "      <td>4.050781</td>\n",
       "      <td>4.102051</td>\n",
       "      <td>4.027344</td>\n",
       "      <td>4.075195</td>\n",
       "      <td>2.575089</td>\n",
       "      <td>3.461230e+07</td>\n",
       "    </tr>\n",
       "    <tr>\n",
       "      <th>50%</th>\n",
       "      <td>26.820000</td>\n",
       "      <td>27.100000</td>\n",
       "      <td>26.520000</td>\n",
       "      <td>26.840000</td>\n",
       "      <td>18.948530</td>\n",
       "      <td>5.203200e+07</td>\n",
       "    </tr>\n",
       "    <tr>\n",
       "      <th>75%</th>\n",
       "      <td>40.034999</td>\n",
       "      <td>40.443751</td>\n",
       "      <td>39.500000</td>\n",
       "      <td>39.937500</td>\n",
       "      <td>29.244812</td>\n",
       "      <td>7.265400e+07</td>\n",
       "    </tr>\n",
       "    <tr>\n",
       "      <th>max</th>\n",
       "      <td>344.619995</td>\n",
       "      <td>349.670013</td>\n",
       "      <td>342.200012</td>\n",
       "      <td>343.109985</td>\n",
       "      <td>342.402008</td>\n",
       "      <td>1.031789e+09</td>\n",
       "    </tr>\n",
       "  </tbody>\n",
       "</table>\n",
       "</div>"
      ],
      "text/plain": [
       "              Open         High          Low        Close    Adj Close  \\\n",
       "count  9083.000000  9083.000000  9083.000000  9083.000000  9083.000000   \n",
       "mean     41.324936    41.760887    40.878488    41.335628    36.256120   \n",
       "std      59.696905    60.272218    59.081728    59.714567    59.981436   \n",
       "min       0.088542     0.092014     0.088542     0.090278     0.057046   \n",
       "25%       4.050781     4.102051     4.027344     4.075195     2.575089   \n",
       "50%      26.820000    27.100000    26.520000    26.840000    18.948530   \n",
       "75%      40.034999    40.443751    39.500000    39.937500    29.244812   \n",
       "max     344.619995   349.670013   342.200012   343.109985   342.402008   \n",
       "\n",
       "             Volume  \n",
       "count  9.083000e+03  \n",
       "mean   5.875055e+07  \n",
       "std    3.845200e+07  \n",
       "min    2.304000e+06  \n",
       "25%    3.461230e+07  \n",
       "50%    5.203200e+07  \n",
       "75%    7.265400e+07  \n",
       "max    1.031789e+09  "
      ]
     },
     "execution_count": 82,
     "metadata": {},
     "output_type": "execute_result"
    }
   ],
   "source": [
    "dataset.describe()"
   ]
  },
  {
   "cell_type": "code",
   "execution_count": 83,
   "id": "f4ed1830-ca8e-4a23-bb74-6fb013c15415",
   "metadata": {},
   "outputs": [],
   "source": [
    "#exploring the data visually "
   ]
  },
  {
   "cell_type": "code",
   "execution_count": 84,
   "id": "3df0fe97-8800-46e4-b71b-f05d458092d8",
   "metadata": {},
   "outputs": [
    {
     "data": {
      "image/png": "[encoded data removed]",
      "text/plain": [
       "<Figure size 1080x504 with 1 Axes>"
      ]
     },
     "metadata": {
      "needs_background": "light"
     },
     "output_type": "display_data"
    }
   ],
   "source": [
    "dataset['Open'].plot(label= 'Microsoft Open Price', figsize=(15,7))\n",
    "dataset['Close'].plot(label= 'Microsoft Close Price')\n",
    "dataset['High'].plot(label= 'Microsoft High Price')\n",
    "dataset['Low'].plot(label= 'Microsoft Low Price')\n",
    "plt.legend()\n",
    "plt.title('Microsoft Stock Prices')\n",
    "plt.ylabel('Stock Price')\n",
    "plt.show()"
   ]
  },
  {
   "cell_type": "code",
   "execution_count": 85,
   "id": "933eafe0-da4a-4db4-aba1-b70b7d5ac86a",
   "metadata": {},
   "outputs": [
    {
     "data": {
      "text/plain": [
       "Text(0.5, 1.0, 'Volume Traded by Microsoft')"
      ]
     },
     "execution_count": 85,
     "metadata": {},
     "output_type": "execute_result"
    },
    {
     "data": {
      "image/png": "[encoded data removed]",
      "text/plain": [
       "<Figure size 1224x360 with 1 Axes>"
      ]
     },
     "metadata": {
      "needs_background": "light"
     },
     "output_type": "display_data"
    }
   ],
   "source": [
    "dataset['Volume'].plot(figsize=(17,5))\n",
    "plt.title('Volume Traded by Microsoft')"
   ]
  },
  {
   "cell_type": "code",
   "execution_count": 86,
   "id": "559bfc8b-d2a4-452a-bfa7-6111eccf08b4",
   "metadata": {},
   "outputs": [],
   "source": [
    "#downloaded libraries "
   ]
  },
  {
   "cell_type": "code",
   "execution_count": 87,
   "id": "e1803c27-8560-434b-90db-369c01b298d0",
   "metadata": {},
   "outputs": [],
   "source": [
    "from sklearn.model_selection import train_test_split\n",
    "from sklearn.linear_model import LinearRegression\n",
    "from sklearn import metrics "
   ]
  },
  {
   "cell_type": "code",
   "execution_count": 88,
   "id": "f76d6e60-d25e-4a85-bc50-d8d995a2cf83",
   "metadata": {},
   "outputs": [],
   "source": [
    "%matplotlib inline "
   ]
  },
  {
   "cell_type": "code",
   "execution_count": 89,
   "id": "a1ae8e9c-d801-4c19-a1a4-ed9de09baeba",
   "metadata": {},
   "outputs": [],
   "source": [
    "#created the x and Y. 20% of my data set will be testing the rest 80% training "
   ]
  },
  {
   "cell_type": "code",
   "execution_count": 90,
   "id": "f6b84b04-8d10-42ee-863c-a43498af45a7",
   "metadata": {},
   "outputs": [],
   "source": [
    "x= dataset [['High', 'Low','Open', 'Volume']].values \n",
    "y= dataset ['Close'].values"
   ]
  },
  {
   "cell_type": "code",
   "execution_count": 91,
   "id": "f072bd9c-c6f0-4bff-9ade-b01a0e57266b",
   "metadata": {},
   "outputs": [],
   "source": [
    "x_train,x_test,y_train,y_test = train_test_split(x,y,test_size=0.2,random_state=0)"
   ]
  },
  {
   "cell_type": "code",
   "execution_count": 92,
   "id": "2a5f36a2-1af5-4d04-9649-a7b359bb0da2",
   "metadata": {},
   "outputs": [],
   "source": [
    "regressor= LinearRegression()"
   ]
  },
  {
   "cell_type": "code",
   "execution_count": 93,
   "id": "288316d9-aec8-4fad-89f8-1117df02b83f",
   "metadata": {},
   "outputs": [
    {
     "data": {
      "text/plain": [
       "LinearRegression()"
      ]
     },
     "execution_count": 93,
     "metadata": {},
     "output_type": "execute_result"
    }
   ],
   "source": [
    "regressor.fit(x_train,y_train)"
   ]
  },
  {
   "cell_type": "code",
   "execution_count": 94,
   "id": "d739ac28-771e-4b14-8911-ce703430ecfd",
   "metadata": {},
   "outputs": [
    {
     "name": "stdout",
     "output_type": "stream",
     "text": [
      "[ 8.11157948e-01  7.89165684e-01 -5.99912426e-01 -1.64728820e-10]\n"
     ]
    }
   ],
   "source": [
    "print(regressor.coef_)"
   ]
  },
  {
   "cell_type": "code",
   "execution_count": 95,
   "id": "fbed46a3-42a7-4b49-ad6f-7307b38fcff4",
   "metadata": {},
   "outputs": [
    {
     "name": "stdout",
     "output_type": "stream",
     "text": [
      "-0.0010099184198324451\n"
     ]
    }
   ],
   "source": [
    "print(regressor.intercept_)"
   ]
  },
  {
   "cell_type": "code",
   "execution_count": 96,
   "id": "72cae53d-24d7-4cc4-acbc-4e56a7f9e726",
   "metadata": {},
   "outputs": [],
   "source": [
    "predicted = regressor.predict(x_test)"
   ]
  },
  {
   "cell_type": "code",
   "execution_count": 97,
   "id": "875641ba-d331-4311-9428-cd4a85eddfd9",
   "metadata": {},
   "outputs": [
    {
     "name": "stdout",
     "output_type": "stream",
     "text": [
      "[ 92.82072822  92.46754874  56.58030763 ...  23.2819355   26.31206197\n",
      " 298.75006043]\n"
     ]
    }
   ],
   "source": [
    "print(predicted)"
   ]
  },
  {
   "cell_type": "code",
   "execution_count": 98,
   "id": "a8984664-fbf2-43c7-a334-be5977f37e6a",
   "metadata": {},
   "outputs": [],
   "source": [
    "dframe= pd.DataFrame({'Actual':y_test.flatten(),'predicted':predicted.flatten()})"
   ]
  },
  {
   "cell_type": "code",
   "execution_count": 99,
   "id": "e1df49c4-b6a2-41fd-b699-94f645171bc2",
   "metadata": {},
   "outputs": [
    {
     "data": {
      "text/html": [
       "<div>\n",
       "<style scoped>\n",
       "    .dataframe tbody tr th:only-of-type {\n",
       "        vertical-align: middle;\n",
       "    }\n",
       "\n",
       "    .dataframe tbody tr th {\n",
       "        vertical-align: top;\n",
       "    }\n",
       "\n",
       "    .dataframe thead th {\n",
       "        text-align: right;\n",
       "    }\n",
       "</style>\n",
       "<table border=\"1\" class=\"dataframe\">\n",
       "  <thead>\n",
       "    <tr style=\"text-align: right;\">\n",
       "      <th></th>\n",
       "      <th>Actual</th>\n",
       "      <th>predicted</th>\n",
       "    </tr>\n",
       "  </thead>\n",
       "  <tbody>\n",
       "    <tr>\n",
       "      <th>0</th>\n",
       "      <td>92.000000</td>\n",
       "      <td>92.820728</td>\n",
       "    </tr>\n",
       "    <tr>\n",
       "      <th>1</th>\n",
       "      <td>90.769997</td>\n",
       "      <td>92.467549</td>\n",
       "    </tr>\n",
       "    <tr>\n",
       "      <th>2</th>\n",
       "      <td>56.549999</td>\n",
       "      <td>56.580308</td>\n",
       "    </tr>\n",
       "    <tr>\n",
       "      <th>3</th>\n",
       "      <td>16.738281</td>\n",
       "      <td>16.682261</td>\n",
       "    </tr>\n",
       "    <tr>\n",
       "      <th>4</th>\n",
       "      <td>0.347222</td>\n",
       "      <td>0.336424</td>\n",
       "    </tr>\n",
       "    <tr>\n",
       "      <th>5</th>\n",
       "      <td>17.281250</td>\n",
       "      <td>17.207237</td>\n",
       "    </tr>\n",
       "    <tr>\n",
       "      <th>6</th>\n",
       "      <td>106.889999</td>\n",
       "      <td>106.468819</td>\n",
       "    </tr>\n",
       "    <tr>\n",
       "      <th>7</th>\n",
       "      <td>26.160000</td>\n",
       "      <td>26.078810</td>\n",
       "    </tr>\n",
       "    <tr>\n",
       "      <th>8</th>\n",
       "      <td>2.273438</td>\n",
       "      <td>2.260166</td>\n",
       "    </tr>\n",
       "    <tr>\n",
       "      <th>9</th>\n",
       "      <td>29.389999</td>\n",
       "      <td>29.283109</td>\n",
       "    </tr>\n",
       "    <tr>\n",
       "      <th>10</th>\n",
       "      <td>289.809998</td>\n",
       "      <td>289.224860</td>\n",
       "    </tr>\n",
       "    <tr>\n",
       "      <th>11</th>\n",
       "      <td>44.529999</td>\n",
       "      <td>44.718043</td>\n",
       "    </tr>\n",
       "    <tr>\n",
       "      <th>12</th>\n",
       "      <td>48.080002</td>\n",
       "      <td>48.006529</td>\n",
       "    </tr>\n",
       "    <tr>\n",
       "      <th>13</th>\n",
       "      <td>1.376736</td>\n",
       "      <td>1.360444</td>\n",
       "    </tr>\n",
       "    <tr>\n",
       "      <th>14</th>\n",
       "      <td>3.851563</td>\n",
       "      <td>3.850845</td>\n",
       "    </tr>\n",
       "    <tr>\n",
       "      <th>15</th>\n",
       "      <td>30.980000</td>\n",
       "      <td>31.068972</td>\n",
       "    </tr>\n",
       "    <tr>\n",
       "      <th>16</th>\n",
       "      <td>27.879999</td>\n",
       "      <td>27.954159</td>\n",
       "    </tr>\n",
       "    <tr>\n",
       "      <th>17</th>\n",
       "      <td>26.468750</td>\n",
       "      <td>26.898245</td>\n",
       "    </tr>\n",
       "    <tr>\n",
       "      <th>18</th>\n",
       "      <td>1.411458</td>\n",
       "      <td>1.385581</td>\n",
       "    </tr>\n",
       "    <tr>\n",
       "      <th>19</th>\n",
       "      <td>29.040001</td>\n",
       "      <td>29.011923</td>\n",
       "    </tr>\n",
       "    <tr>\n",
       "      <th>20</th>\n",
       "      <td>235.990005</td>\n",
       "      <td>235.634093</td>\n",
       "    </tr>\n",
       "    <tr>\n",
       "      <th>21</th>\n",
       "      <td>0.104167</td>\n",
       "      <td>0.097305</td>\n",
       "    </tr>\n",
       "    <tr>\n",
       "      <th>22</th>\n",
       "      <td>27.250000</td>\n",
       "      <td>27.100816</td>\n",
       "    </tr>\n",
       "    <tr>\n",
       "      <th>23</th>\n",
       "      <td>2.503906</td>\n",
       "      <td>2.492385</td>\n",
       "    </tr>\n",
       "    <tr>\n",
       "      <th>24</th>\n",
       "      <td>138.600006</td>\n",
       "      <td>137.502852</td>\n",
       "    </tr>\n",
       "  </tbody>\n",
       "</table>\n",
       "</div>"
      ],
      "text/plain": [
       "        Actual   predicted\n",
       "0    92.000000   92.820728\n",
       "1    90.769997   92.467549\n",
       "2    56.549999   56.580308\n",
       "3    16.738281   16.682261\n",
       "4     0.347222    0.336424\n",
       "5    17.281250   17.207237\n",
       "6   106.889999  106.468819\n",
       "7    26.160000   26.078810\n",
       "8     2.273438    2.260166\n",
       "9    29.389999   29.283109\n",
       "10  289.809998  289.224860\n",
       "11   44.529999   44.718043\n",
       "12   48.080002   48.006529\n",
       "13    1.376736    1.360444\n",
       "14    3.851563    3.850845\n",
       "15   30.980000   31.068972\n",
       "16   27.879999   27.954159\n",
       "17   26.468750   26.898245\n",
       "18    1.411458    1.385581\n",
       "19   29.040001   29.011923\n",
       "20  235.990005  235.634093\n",
       "21    0.104167    0.097305\n",
       "22   27.250000   27.100816\n",
       "23    2.503906    2.492385\n",
       "24  138.600006  137.502852"
      ]
     },
     "execution_count": 99,
     "metadata": {},
     "output_type": "execute_result"
    }
   ],
   "source": [
    "dframe.head(25)"
   ]
  },
  {
   "cell_type": "code",
   "execution_count": 100,
   "id": "0d6482d0-82f8-445f-8127-0f333ddaf47d",
   "metadata": {},
   "outputs": [],
   "source": [
    "import math"
   ]
  },
  {
   "cell_type": "code",
   "execution_count": 101,
   "id": "e970f158-ccd8-4691-88f2-297c5dd5d416",
   "metadata": {},
   "outputs": [
    {
     "name": "stdout",
     "output_type": "stream",
     "text": [
      "Mean Absolute Error: 0.1830485579357209\n",
      "Mean Squared Error: 0.16337846884512702\n",
      "Root Mean Squared Error: 0.4042010252895544\n"
     ]
    }
   ],
   "source": [
    "print('Mean Absolute Error:', metrics.mean_absolute_error(y_test, predicted))\n",
    "print ('Mean Squared Error:', metrics.mean_squared_error(y_test, predicted))\n",
    "print('Root Mean Squared Error:',math.sqrt(metrics.mean_squared_error(y_test,predicted)))"
   ]
  },
  {
   "cell_type": "code",
   "execution_count": 102,
   "id": "bf8d8ab5-c402-4f0a-81d1-ff4094473e0e",
   "metadata": {},
   "outputs": [],
   "source": [
    "graph=dframe.head(20)"
   ]
  },
  {
   "cell_type": "code",
   "execution_count": 103,
   "id": "bf85925c-437a-4352-9674-03fbfb20fda0",
   "metadata": {},
   "outputs": [],
   "source": [
    "#plotting the predicted vs the actual and the trained is very good is pretty accurate "
   ]
  },
  {
   "cell_type": "code",
   "execution_count": 104,
   "id": "db7eed46-1103-40b5-9129-ae4b72a9f575",
   "metadata": {},
   "outputs": [
    {
     "data": {
      "text/plain": [
       "<AxesSubplot:>"
      ]
     },
     "execution_count": 104,
     "metadata": {},
     "output_type": "execute_result"
    },
    {
     "data": {
      "image/png": "[encoded data removed]",
      "text/plain": [
       "<Figure size 432x288 with 1 Axes>"
      ]
     },
     "metadata": {
      "needs_background": "light"
     },
     "output_type": "display_data"
    }
   ],
   "source": [
    "graph.plot(kind='bar')"
   ]
  },
  {
   "cell_type": "code",
   "execution_count": null,
   "id": "d775a648-f406-40c6-89c6-4a889cc41380",
   "metadata": {},
   "outputs": [],
   "source": []
  }
 ],
 "metadata": {
  "kernelspec": {
   "display_name": "Python 3 (ipykernel)",
   "language": "python",
   "name": "python3"
  },
  "language_info": {
   "codemirror_mode": {
    "name": "ipython",
    "version": 3
   },
   "file_extension": ".py",
   "mimetype": "text/x-python",
   "name": "python",
   "nbconvert_exporter": "python",
   "pygments_lexer": "ipython3",
   "version": "3.9.12"
  }
 },
 "nbformat": 4,
 "nbformat_minor": 5
}
